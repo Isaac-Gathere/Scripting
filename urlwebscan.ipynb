{
  "nbformat": 4,
  "nbformat_minor": 0,
  "metadata": {
    "colab": {
      "provenance": [],
      "authorship_tag": "ABX9TyP4I85bFVUFeIF3eIIZFfGv",
      "include_colab_link": true
    },
    "kernelspec": {
      "name": "python3",
      "display_name": "Python 3"
    },
    "language_info": {
      "name": "python"
    }
  },
  "cells": [
    {
      "cell_type": "markdown",
      "metadata": {
        "id": "view-in-github",
        "colab_type": "text"
      },
      "source": [
        "<a href=\"https://colab.research.google.com/github/Isaac-Gathere/Scripting/blob/main/urlwebscan.ipynb\" target=\"_parent\"><img src=\"https://colab.research.google.com/assets/colab-badge.svg\" alt=\"Open In Colab\"/></a>"
      ]
    },
    {
      "cell_type": "code",
      "execution_count": null,
      "metadata": {
        "colab": {
          "base_uri": "https://localhost:8080/"
        },
        "id": "dtxmdOeeCxLA",
        "outputId": "4ad3b929-1a22-4cc8-99a8-4dd990f607ae"
      },
      "outputs": [
        {
          "output_type": "stream",
          "name": "stdout",
          "text": [
            "Input validation vulnerability found: '\n"
          ]
        }
      ],
      "source": [
        "import requests\n",
        "\n",
        "# Define the URL to be tested\n",
        "url = \"https://example.com\"\n",
        "\n",
        "# Define the parameters to be tested\n",
        "parameters = {\"param1\": \"value1\", \"param2\": \"value2\"}\n",
        "\n",
        "# Send a GET request to the URL\n",
        "response = requests.get(url, params=parameters)\n",
        "\n",
        "# Check for input validation vulnerabilities\n",
        "input_validation = [\"'\", \"<script>alert('XSS')</script>\"]\n",
        "for i in input_validation:\n",
        "    payload = {parameter: i for parameter in parameters}\n",
        "    response = requests.get(url, params=payload)\n",
        "    if i in response.text:\n",
        "        print(f\"Input validation vulnerability found: {i}\")\n",
        "\n",
        "# Check for parameter tampering vulnerabilities\n",
        "parameter_tampering = {\"param1\": \"admin\", \"param2\": \"password\"}\n",
        "for key, value in parameter_tampering.items():\n",
        "    payload = {parameter: value if parameter == key else parameters[parameter] for parameter in parameters}\n",
        "    response = requests.get(url, params=payload)\n",
        "    if \"Unauthorized\" in response.text:\n",
        "        print(f\"Parameter tampering vulnerability found: {key}={value}\")\n",
        "\n",
        "# Check for XSS vulnerabilities\n",
        "xss_payload = \"<script>alert('XSS')</script>\"\n",
        "payload = {parameter: xss_payload for parameter in parameters}\n",
        "response = requests.get(url, params=payload)\n",
        "if xss_payload in response.text:\n",
        "    print(\"XSS vulnerability found\")\n",
        "\n",
        "# Check for directory traversal vulnerabilities\n",
        "directory_traversal = \"../\"\n",
        "payload = {parameter: directory_traversal for parameter in parameters}\n",
        "response = requests.get(url, params=payload)\n",
        "if \"Permission denied\" in response.text:\n",
        "    print(\"Directory traversal vulnerability found\")\n",
        "\n",
        "# Check for broken authentication and session management vulnerabilities\n",
        "# This will depend on the specific implementation and cannot be generalized\n"
      ]
    },
    {
      "cell_type": "code",
      "source": [],
      "metadata": {
        "id": "V39mz9tyM536"
      },
      "execution_count": null,
      "outputs": []
    }
  ]
}